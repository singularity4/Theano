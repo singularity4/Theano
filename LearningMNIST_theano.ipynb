{
 "cells": [
  {
   "cell_type": "markdown",
   "metadata": {},
   "source": [
    "Classification of the MNIST dataset with the logistic regression in Theano\n",
    "\n"
   ]
  },
  {
   "cell_type": "code",
   "execution_count": null,
   "metadata": {
    "collapsed": true
   },
   "outputs": [],
   "source": [
    "#imports\n",
    "import numpy as np\n",
    "from theano import *\n",
    "import theano.tensor as T\n",
    "import cPickle, gzip"
   ]
  },
  {
   "cell_type": "markdown",
   "metadata": {},
   "source": [
    "Load the dataset, download it:"
   ]
  },
  {
   "cell_type": "code",
   "execution_count": null,
   "metadata": {
    "collapsed": true
   },
   "outputs": [],
   "source": [
    "!wget http://deeplearning.net/data/mnist/mnist.pkl.gz\n",
    "with gzip.open('mnist.pkl.gz', 'rb') as f:\n",
    "    train_set, valid_set, test_set = cPickle.load(f)\n",
    "\n",
    "print 'Shapes:'\n",
    "print '\\tTraining:   ', train_set[0].shape, train_set[1].shape\n",
    "print '\\tValidation: ', valid_set[0].shape, valid_set[1].shape\n",
    "print '\\tTest:       ', test_set[0].shape, test_set[1].shape"
   ]
  },
  {
   "cell_type": "markdown",
   "metadata": {},
   "source": [
    "50 thousand training images, 10 thousand validation images, 10 thousand test images; each set comes with a set of labels "
   ]
  },
  {
   "cell_type": "code",
   "execution_count": null,
   "metadata": {
    "collapsed": true
   },
   "outputs": [],
   "source": [
    "# Weight vector shape: from 784 pixels to 10 possible classifications\n",
    "W_shape = (10, 784)\n",
    "b_shape = 10\n",
    "\n",
    "W = shared(np.random.random(W_shape) - 0.5, name=\"W\") #shared \n",
    "b = shared(np.random.random(b_shape) - 0.5, name=\"b\")"
   ]
  },
  {
   "cell_type": "code",
   "execution_count": null,
   "metadata": {
    "collapsed": true
   },
   "outputs": [],
   "source": [
    "# Makes an input matrix (which can be the training, validation \n",
    "#or test set)\n",
    "x = T.dmatrix(\"x\") # N x 784 - Theano, symbolic variable\n",
    "labels = T.dmatrix(\"labels\") # N x 10 (learn 10 classes)"
   ]
  },
  {
   "cell_type": "code",
   "execution_count": null,
   "metadata": {
    "collapsed": true
   },
   "outputs": [],
   "source": [
    "# Output of our logistic regression: softmax function (sigmoid)\n",
    "output = T.nnet.softmax(x.dot(W.transpose()) + b)"
   ]
  },
  {
   "cell_type": "code",
   "execution_count": null,
   "metadata": {
    "collapsed": true
   },
   "outputs": [],
   "source": [
    "#The model predicts whichever class has the highest output \n",
    "#on its corresponding unit:\n",
    "prediction = T.argmax(output, axis=1)"
   ]
  },
  {
   "cell_type": "code",
   "execution_count": null,
   "metadata": {
    "collapsed": true
   },
   "outputs": [],
   "source": [
    "# error function: binary cross-entropy (cost function)\n",
    "cost = T.nnet.binary_crossentropy(output, labels).mean()"
   ]
  },
  {
   "cell_type": "code",
   "execution_count": null,
   "metadata": {
    "collapsed": true
   },
   "outputs": [],
   "source": [
    "def encode_labels(labels, max_index):\n",
    "    \"\"\"Encode the labels into binary vectors.\"\"\"\n",
    "    # Allocate the output labels, all zeros.\n",
    "    encoded = np.zeros((labels.shape[0], max_index + 1))\n",
    "    \n",
    "    # Fill in the ones at the right indices.\n",
    "    for i in xrange(labels.shape[0]):\n",
    "        encoded[i, labels[i]] = 1\n",
    "    return encoded"
   ]
  },
  {
   "cell_type": "markdown",
   "metadata": {},
   "source": [
    "Compiling the Theano functions\n",
    "Theano’s compiler applies many optimizations of varying complexity to these symbolic expressions. These optimizations include:\n",
    "\n",
    "use of GPU for computations\n",
    "constant folding\n",
    "merging of similar subgraphs, to avoid redundant calculation\n",
    "arithmetic simplification (e.g. x*y/x -> y, --x -> x)\n",
    "inserting efficient BLAS operations (e.g. GEMM) in a variety of contexts\n",
    "using memory aliasing to avoid calculation and others..."
   ]
  },
  {
   "cell_type": "code",
   "execution_count": null,
   "metadata": {
    "collapsed": true
   },
   "outputs": [],
   "source": [
    "compute_prediction = function([x], prediction)\n",
    "compute_cost = function([x, labels], cost)\n",
    "\n",
    "grad_W = grad(cost, W)\n",
    "grad_b = grad(cost, b)\n",
    "# Compute the gradient of our error function"
   ]
  },
  {
   "cell_type": "markdown",
   "metadata": {},
   "source": [
    " We can now train it on our training set until it seems to converge\n",
    " using a heuristic adaptive step size (gradient descent)"
   ]
  },
  {
   "cell_type": "code",
   "execution_count": null,
   "metadata": {
    "collapsed": true
   },
   "outputs": [],
   "source": [
    "# Set up the updates we want to do\n",
    "alpha = T.dscalar(\"alpha\")\n",
    "updates = [(W, W - alpha * grad_W),\n",
    "           (b, b - alpha * grad_b)]\n",
    "\n",
    "# Make our function. Have it return the cost!\n",
    "train = function([x, labels, alpha],\n",
    "                 cost,\n",
    "                 updates=updates)\n",
    "\n",
    "# Calculating cost \n",
    "labeled = encode_labels(train_set[1], 9)\n",
    "alpha = 8.0\n",
    "costs = []"
   ]
  },
  {
   "cell_type": "code",
   "execution_count": null,
   "metadata": {
    "collapsed": true
   },
   "outputs": [],
   "source": [
    "while True:\n",
    "    costs.append(float(train(train_set[0], labeled, alpha))) #one iteration of gradient descent\n",
    "    \n",
    "    #print every 10 iterations\n",
    "    if len(costs) % 10 == 0:\n",
    "        print 'Epoch', len(costs), 'with cost', costs[-1], 'and alpha', alpha\n",
    "\n",
    "    #change the value of alpha \n",
    "    if len(costs) > 2 and costs[-2] - costs[-1] < 0.0001:\n",
    "        if alpha < 0.2:\n",
    "            break\n",
    "        else:\n",
    "            alpha = alpha / 1.5\n"
   ]
  },
  {
   "cell_type": "code",
   "execution_count": null,
   "metadata": {
    "collapsed": true
   },
   "outputs": [],
   "source": [
    "#Let's make our prediction on the test set:\n",
    "\n",
    "prediction = compute_prediction(test_set[0])\n",
    "\n",
    "#calculate accuracy: compare predicted with actual label\n",
    "def accuracy(predicted, actual):\n",
    "    total = 0.0\n",
    "    correct = 0.0\n",
    "    for p, a in zip(predicted, actual):\n",
    "        total += 1\n",
    "        if p == a:\n",
    "            correct += 1\n",
    "    return correct / total\n",
    "\n",
    "accuracy(prediction, test_set[1])\n",
    "\n",
    "print accuracy(prediction, test_set[1])"
   ]
  }
 ],
 "metadata": {
  "kernelspec": {
   "display_name": "Python 2",
   "language": "python",
   "name": "python2"
  },
  "language_info": {
   "codemirror_mode": {
    "name": "ipython",
    "version": 2
   },
   "file_extension": ".py",
   "mimetype": "text/x-python",
   "name": "python",
   "nbconvert_exporter": "python",
   "pygments_lexer": "ipython2",
   "version": "2.7.13"
  }
 },
 "nbformat": 4,
 "nbformat_minor": 2
}
